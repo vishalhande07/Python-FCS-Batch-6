{
 "cells": [
  {
   "cell_type": "code",
   "execution_count": null,
   "metadata": {},
   "outputs": [],
   "source": [
    "# Question 1\n",
    "# Use the dictionary,\n",
    "# port1 = {21: \"FTP\", 22:\"SSH\", 23: \"telnet\", 80: \"http\"},\n",
    "# and make a new dictionary in which keys become values and values become keys,\n",
    "# as shown: Port2 = {“FTP\":21, \"SSH\":22, “telnet\":23,\"http\": 80}"
   ]
  },
  {
   "cell_type": "code",
   "execution_count": null,
   "metadata": {},
   "outputs": [],
   "source": [
    "#Answer :-"
   ]
  },
  {
   "cell_type": "code",
   "execution_count": 7,
   "metadata": {},
   "outputs": [
    {
     "name": "stdout",
     "output_type": "stream",
     "text": [
      "Before Swapping :  {20: 'FTP', 22: 'SSH', 23: 'Telnet', 80: 'HTTP'}\n",
      "After  Swapping :  {'FTP': 20, 'SSH': 22, 'Telnet': 23, 'HTTP': 80}\n"
     ]
    }
   ],
   "source": [
    "port1 = {20:\"FTP\",22:\"SSH\",23:\"Telnet\",80:\"HTTP\"}\n",
    "print(\"Before Swapping : \",port1)\n",
    "print(\"After  Swapping : \",{val:key for key,val in port1.items()})"
   ]
  }
 ],
 "metadata": {
  "kernelspec": {
   "display_name": "Python 3",
   "language": "python",
   "name": "python3"
  },
  "language_info": {
   "codemirror_mode": {
    "name": "ipython",
    "version": 3
   },
   "file_extension": ".py",
   "mimetype": "text/x-python",
   "name": "python",
   "nbconvert_exporter": "python",
   "pygments_lexer": "ipython3",
   "version": "3.7.6"
  }
 },
 "nbformat": 4,
 "nbformat_minor": 4
}
