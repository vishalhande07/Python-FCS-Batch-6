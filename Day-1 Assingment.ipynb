{
 "cells": [
  {
   "cell_type": "markdown",
   "metadata": {},
   "source": [
    "# Day-1 Assignment"
   ]
  },
  {
   "cell_type": "markdown",
   "metadata": {},
   "source": [
    "## Question-1\n",
    "### What is python? What are the ways to install python in your pc?"
   ]
  },
  {
   "cell_type": "raw",
   "metadata": {},
   "source": [
    "Answer:-\n",
    "Python is a coding language which is easy to learn and is next upcoming language which is becoming well known in technological side. Python can be installed in various ways:- \n",
    "1. Python 3.7 program can be downloaded online and later installed into pc.\n",
    "2. Anaconda navigator can be installed which contains various notebooks such as Jupyter Ntbk. , Spyder Nt.bk."
   ]
  },
  {
   "cell_type": "markdown",
   "metadata": {},
   "source": [
    "## Question-2\n",
    "### What are code environments? There Types?"
   ]
  },
  {
   "cell_type": "raw",
   "metadata": {},
   "source": [
    "Answer:-\n",
    "Code environments are one which allow you to write code/syntax and execute the code in same file to develop certain code.\n",
    "The types of environment or IDE's are:-\n",
    "1. Pycharm\n",
    "2. IDLE\n",
    "3. Anaconda Navigator\n",
    "4. Atom\n",
    "5. Pydev"
   ]
  },
  {
   "cell_type": "code",
   "execution_count": null,
   "metadata": {},
   "outputs": [],
   "source": []
  }
 ],
 "metadata": {
  "kernelspec": {
   "display_name": "Python 3",
   "language": "python",
   "name": "python3"
  },
  "language_info": {
   "codemirror_mode": {
    "name": "ipython",
    "version": 3
   },
   "file_extension": ".py",
   "mimetype": "text/x-python",
   "name": "python",
   "nbconvert_exporter": "python",
   "pygments_lexer": "ipython3",
   "version": "3.7.6"
  }
 },
 "nbformat": 4,
 "nbformat_minor": 4
}
