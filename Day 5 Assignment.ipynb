{
 "cells": [
  {
   "cell_type": "code",
   "execution_count": 21,
   "metadata": {},
   "outputs": [
    {
     "name": "stdout",
     "output_type": "stream",
     "text": [
      "[1, 1, 1, 2, 2, 3, 4, 4, 10, 56, 56, 0, 0, 0, 0, 0]\n"
     ]
    }
   ],
   "source": [
    "#Question 1\n",
    "mylist = [0,1,2,10,4,1,0,56,2,0,1,3,0,56,0,4]\n",
    "preceds = []\n",
    "follows = []\n",
    "for x in mylist :\n",
    "    if x is 0 :\n",
    "        preceds.append(x)\n",
    "    else :\n",
    "        follows.append(x)\n",
    "        \n",
    "follows.sort()\n",
    "preceds.sort()\n",
    "together = follows+preceds\n",
    "print(together)"
   ]
  },
  {
   "cell_type": "code",
   "execution_count": 49,
   "metadata": {},
   "outputs": [
    {
     "name": "stdout",
     "output_type": "stream",
     "text": [
      "The original list 1 is : [10, 20, 40, 60, 70, 80]\n",
      "The original list 2 is : [5, 15, 25, 35, 45, 60]\n",
      "The Combined sorted list is :[5, 10, 15, 20, 25, 35, 40, 45, 60, 60, 70, 80]\n"
     ]
    }
   ],
   "source": [
    "#Question 2\n",
    "list1=[10,20,40,60,70,80]\n",
    "list2=[5,15,25,35,45,60]\n",
    "\n",
    "# printing original lists  \n",
    "print (\"The original list 1 is : \" + str(list1)) \n",
    "print (\"The original list 2 is : \" + str(list2))\n",
    "\n",
    "# to combine two sorted lists \n",
    "size_1 = len(list1)\n",
    "size_2 = len(list2)\n",
    "\n",
    "result = []\n",
    "i , j = 0 , 0\n",
    "while i < size_1 and j < size_2:\n",
    "    if list1[i] < list2[j]:\n",
    "        result.append(list1[i])\n",
    "        i += 1\n",
    "    else :\n",
    "        result.append(list2[j])\n",
    "        j += 1\n",
    "\n",
    "# printing result         \n",
    "result = result + list1[i:] + list2[j:]\n",
    "print(\"The Combined sorted list is :\" + str(result)) "
   ]
  },
  {
   "cell_type": "code",
   "execution_count": null,
   "metadata": {},
   "outputs": [],
   "source": []
  }
 ],
 "metadata": {
  "kernelspec": {
   "display_name": "Python 3",
   "language": "python",
   "name": "python3"
  },
  "language_info": {
   "codemirror_mode": {
    "name": "ipython",
    "version": 3
   },
   "file_extension": ".py",
   "mimetype": "text/x-python",
   "name": "python",
   "nbconvert_exporter": "python",
   "pygments_lexer": "ipython3",
   "version": "3.7.6"
  }
 },
 "nbformat": 4,
 "nbformat_minor": 4
}
